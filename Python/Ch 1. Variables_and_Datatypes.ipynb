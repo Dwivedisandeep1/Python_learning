{
 "cells": [
  {
   "cell_type": "code",
   "execution_count": 1,
   "id": "b4c35262",
   "metadata": {},
   "outputs": [
    {
     "name": "stdout",
     "output_type": "stream",
     "text": [
      "Hello World\n"
     ]
    }
   ],
   "source": [
    "print('Hello World') ## Print Function"
   ]
  },
  {
   "cell_type": "markdown",
   "id": "c25ea75b",
   "metadata": {},
   "source": [
    "### Python Character Set\n",
    "1. Letters - A to Z , a to z\n",
    "2. Digits Symbols - + - * / etc.\n",
    "3. whitespaces - Blank spaces, tab , carriage return , newline , formfeed\n",
    "4. other characters - python can process all ASCII and unicode characters as part of data or literals"
   ]
  },
  {
   "cell_type": "markdown",
   "id": "806e627c",
   "metadata": {},
   "source": [
    "### Variables \n",
    "A variable is a name given to a memory location in a program"
   ]
  },
  {
   "cell_type": "code",
   "execution_count": 3,
   "id": "04cd56e8",
   "metadata": {},
   "outputs": [],
   "source": [
    "name = 'Sandeep' ## String\n",
    "age = 23 ## Integer\n",
    "price = 29.99 ## Float"
   ]
  },
  {
   "cell_type": "code",
   "execution_count": 6,
   "id": "4438c8f7",
   "metadata": {},
   "outputs": [
    {
     "name": "stdout",
     "output_type": "stream",
     "text": [
      "Sandeep\n"
     ]
    }
   ],
   "source": [
    "# print(age)\n",
    "# print(price)\n",
    "print(name)"
   ]
  },
  {
   "cell_type": "code",
   "execution_count": 8,
   "id": "dcf43982",
   "metadata": {},
   "outputs": [
    {
     "name": "stdout",
     "output_type": "stream",
     "text": [
      "My name is : Sandeep\n",
      "My name is : 23\n"
     ]
    }
   ],
   "source": [
    "print('My name is :',name)\n",
    "print('My name is :',age)"
   ]
  },
  {
   "cell_type": "markdown",
   "id": "a2bb913a",
   "metadata": {},
   "source": [
    "### We cant use special Symbols like @,#,!,%,$ etc."
   ]
  },
  {
   "cell_type": "code",
   "execution_count": 9,
   "id": "622568a1",
   "metadata": {},
   "outputs": [
    {
     "name": "stdout",
     "output_type": "stream",
     "text": [
      "<class 'str'>\n",
      "<class 'int'>\n",
      "<class 'float'>\n"
     ]
    }
   ],
   "source": [
    "print(type(name))\n",
    "print(type(age))\n",
    "print(type(price))"
   ]
  },
  {
   "cell_type": "markdown",
   "id": "cc62f5d3",
   "metadata": {},
   "source": [
    "### Data Types\n",
    "1. Integers # 15 Integers cant contains decimal(.) \n",
    "2. String # Sandeep We have to use ('',\"\",\"''\")\n",
    "3. Float # 15.12 Decimal values are known as float\n",
    "4. Boolean # True or False If variable Contains True or False is Known as Boolean\n",
    "5. None #  If we Dont want to store value for intial stage e.g. a = None"
   ]
  },
  {
   "cell_type": "code",
   "execution_count": 13,
   "id": "12b40648",
   "metadata": {},
   "outputs": [
    {
     "name": "stdout",
     "output_type": "stream",
     "text": [
      "<class 'NoneType'>\n",
      "<class 'bool'>\n"
     ]
    }
   ],
   "source": [
    "a = None\n",
    "print(type(a))\n",
    "b = True\n",
    "print(type(b))"
   ]
  },
  {
   "cell_type": "code",
   "execution_count": 16,
   "id": "b81d2a48",
   "metadata": {},
   "outputs": [
    {
     "name": "stdout",
     "output_type": "stream",
     "text": [
      "7\n",
      "-3\n"
     ]
    }
   ],
   "source": [
    "a = 2\n",
    "b = 5\n",
    "sum = a+b\n",
    "sum_ = a - b\n",
    "print(sum)\n",
    "print(sum_)"
   ]
  },
  {
   "cell_type": "code",
   "execution_count": 18,
   "id": "e03fa668",
   "metadata": {},
   "outputs": [
    {
     "name": "stdout",
     "output_type": "stream",
     "text": [
      "@@@@@@\n"
     ]
    }
   ],
   "source": [
    "# Expression Execution\n",
    "A,B = 2,3\n",
    "Txt = '@'\n",
    "print(2*Txt*3)"
   ]
  },
  {
   "cell_type": "code",
   "execution_count": 24,
   "id": "2642150e",
   "metadata": {},
   "outputs": [
    {
     "name": "stdout",
     "output_type": "stream",
     "text": [
      "2@2@2@\n"
     ]
    }
   ],
   "source": [
    "# Concat\n",
    "A,B = '2',3\n",
    "Txt = '@'\n",
    "print((A+Txt)*B)"
   ]
  },
  {
   "cell_type": "code",
   "execution_count": 25,
   "id": "edd752ca",
   "metadata": {},
   "outputs": [
    {
     "name": "stdout",
     "output_type": "stream",
     "text": [
      "14\n"
     ]
    }
   ],
   "source": [
    "A,B = 2,3\n",
    "c = 4\n",
    "print(A+B*c)"
   ]
  },
  {
   "cell_type": "code",
   "execution_count": 26,
   "id": "d2eca0d5",
   "metadata": {},
   "outputs": [
    {
     "name": "stdout",
     "output_type": "stream",
     "text": [
      "50.0\n"
     ]
    }
   ],
   "source": [
    "A,B = 10,5.0\n",
    "c=A*B\n",
    "print(c)"
   ]
  },
  {
   "cell_type": "code",
   "execution_count": 28,
   "id": "77fee44f",
   "metadata": {},
   "outputs": [
    {
     "name": "stdout",
     "output_type": "stream",
     "text": [
      "0.5\n"
     ]
    }
   ],
   "source": [
    "A,B = 1,2\n",
    "C = A/B\n",
    "print(C)"
   ]
  },
  {
   "cell_type": "code",
   "execution_count": 29,
   "id": "f336ae63",
   "metadata": {},
   "outputs": [
    {
     "name": "stdout",
     "output_type": "stream",
     "text": [
      "0.0 0.5\n"
     ]
    }
   ],
   "source": [
    "# Integer Division\n",
    "A,B = 1.5,3\n",
    "c = A//B\n",
    "print(c,A/B)"
   ]
  },
  {
   "cell_type": "markdown",
   "id": "a88f77a0",
   "metadata": {},
   "source": [
    "### Floor Gives Closes integer which is lesser than or equal to the float value (A//B)"
   ]
  },
  {
   "cell_type": "code",
   "execution_count": 30,
   "id": "90f854a9",
   "metadata": {},
   "outputs": [
    {
     "name": "stdout",
     "output_type": "stream",
     "text": [
      "Name : Sandeep\n",
      "Sandeep\n"
     ]
    }
   ],
   "source": [
    "# Taking input from user & printing it\n",
    "name = input(\"Name : \")\n",
    "print(name)"
   ]
  },
  {
   "cell_type": "code",
   "execution_count": 31,
   "id": "6aefde88",
   "metadata": {},
   "outputs": [
    {
     "name": "stdout",
     "output_type": "stream",
     "text": [
      "age :12\n",
      "12\n",
      "<class 'int'>\n"
     ]
    }
   ],
   "source": [
    "age = int(input(\"age :\"))\n",
    "print(age)\n",
    "print(type(age))"
   ]
  },
  {
   "cell_type": "code",
   "execution_count": 32,
   "id": "2d08f01c",
   "metadata": {},
   "outputs": [
    {
     "name": "stdout",
     "output_type": "stream",
     "text": [
      "age :25\n",
      "25.0\n",
      "<class 'float'>\n"
     ]
    }
   ],
   "source": [
    "age = float(input(\"age :\"))\n",
    "print(age)\n",
    "print(type(age))"
   ]
  },
  {
   "cell_type": "code",
   "execution_count": 33,
   "id": "d11b1135",
   "metadata": {},
   "outputs": [
    {
     "name": "stdout",
     "output_type": "stream",
     "text": [
      "Name : Sandeep\n",
      "age :25\n",
      "Price :800\n",
      "My name is Sandeep and I am  25 years old\n"
     ]
    }
   ],
   "source": [
    "name = input(\"Name : \")\n",
    "age = int(input(\"age :\"))\n",
    "price = float(input(\"Price :\"))\n",
    "\n",
    "print(\"My name is\", name , \"and I am \", age , \"years old\")"
   ]
  },
  {
   "cell_type": "code",
   "execution_count": 35,
   "id": "0cfec0d0",
   "metadata": {},
   "outputs": [
    {
     "data": {
      "text/plain": [
       "True"
      ]
     },
     "execution_count": 35,
     "metadata": {},
     "output_type": "execute_result"
    }
   ],
   "source": [
    "not True and False or True"
   ]
  },
  {
   "cell_type": "code",
   "execution_count": null,
   "id": "f9d6ad51",
   "metadata": {},
   "outputs": [],
   "source": []
  }
 ],
 "metadata": {
  "kernelspec": {
   "display_name": "Python 3 (ipykernel)",
   "language": "python",
   "name": "python3"
  },
  "language_info": {
   "codemirror_mode": {
    "name": "ipython",
    "version": 3
   },
   "file_extension": ".py",
   "mimetype": "text/x-python",
   "name": "python",
   "nbconvert_exporter": "python",
   "pygments_lexer": "ipython3",
   "version": "3.11.5"
  }
 },
 "nbformat": 4,
 "nbformat_minor": 5
}
